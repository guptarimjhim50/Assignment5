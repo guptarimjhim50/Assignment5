{
  "nbformat": 4,
  "nbformat_minor": 0,
  "metadata": {
    "colab": {
      "provenance": []
    },
    "kernelspec": {
      "name": "python3",
      "display_name": "Python 3"
    },
    "language_info": {
      "name": "python"
    }
  },
  "cells": [
    {
      "cell_type": "markdown",
      "source": [
        "1.What is the difference between interpreted and compiled languages?"
      ],
      "metadata": {
        "id": "40qArRRCAcwB"
      }
    },
    {
      "cell_type": "markdown",
      "source": [
        "The difference between interpreted and compiled languages.\n",
        "\n",
        " lies in how their code is translated into machine code (the binary instructions a computer can execute):\n",
        "\n",
        " Compiled Languages\n",
        "\n",
        "Process: Source code is translated all at once into machine code by a compiler before execution.\n",
        "\n",
        "Examples: C, C++, Rust, Go\n",
        "\n",
        "Pros:\n",
        "\n",
        "Faster execution (since it's already compiled to machine code)\n",
        "\n",
        "Optimized performance\n",
        "\n",
        "Cons:\n",
        "\n",
        "Longer time to compile initially\n",
        "\n",
        "Less flexible for debugging (you must recompile after every change)\n",
        "\n",
        "Interpreted Languages\n",
        "\n",
        "Process: Code is translated and executed line-by-line by an interpreter at runtime.\n",
        "\n",
        "Examples: Python, JavaScript, Ruby, PHP\n",
        "\n",
        "Pros:\n",
        "\n",
        "Easier to debug and test\n",
        "\n",
        "More flexibility for scripting and rapid development\n",
        "\n",
        "Cons:\n",
        "\n",
        "Slower execution\n",
        "\n",
        "Can be less efficient for performance-critical tasks\n",
        "\n",
        " Hybrid Approaches\n",
        "\n",
        "Some languages (like Java or C#) use a mix:\n",
        "\n",
        "Compiled to bytecode, then interpreted or just-in-time compiled by a virtual machine (JVM or .NET CLR)."
      ],
      "metadata": {
        "id": "MiPwNdX5A1sM"
      }
    },
    {
      "cell_type": "markdown",
      "source": [
        "2.What is exception handling in Python?"
      ],
      "metadata": {
        "id": "yYXAY34QA2QR"
      }
    },
    {
      "cell_type": "markdown",
      "source": [
        "2.Exception handling in Python?\n",
        "\n",
        "Exception handling in Python is a way to respond to errors (called exceptions) that occur while a program is running — without crashing the program.\n",
        "\n",
        " What is an Exception?\n",
        "An exception is an error that occurs during the execution of a program, such as:\n",
        "\n",
        "Dividing by zero (ZeroDivisionError)\n",
        "\n",
        "Accessing an undefined variable (NameError)\n",
        "\n",
        "Trying to open a non-existent file (FileNotFoundError)\n",
        "\n",
        "Python Exception Handling Syntax:\n",
        "try:\n",
        "    # Code that might raise an exception\n",
        "    x = 10 / 0\n",
        "except ZeroDivisionError:\n",
        "    # Code that runs if the exception occurs\n",
        "    print(\"Cannot divide by zero.\")\n",
        "finally:\n",
        "    # Optional: Runs no matter what\n",
        "    print(\"This always runs.\")\n",
        "Keywords\n",
        "\n",
        "try: Block of code to test for errors.\n",
        "\n",
        "except: Block of code to handle the error.\n",
        "\n",
        "else: (optional) Runs if no exception occurs.\n",
        "\n",
        "finally: (optional) Runs no matter what — often used for cleanup (e.g., closing a file)."
      ],
      "metadata": {
        "id": "YkgWj0kcBUjt"
      }
    },
    {
      "cell_type": "markdown",
      "source": [
        "3. What is the purpose of the finally block in exception handling?"
      ],
      "metadata": {
        "id": "f1WmjftpBU34"
      }
    },
    {
      "cell_type": "markdown",
      "source": [
        "\n",
        "\n",
        "The finally block is used to define cleanup actions that must happen no matter what — whether an exception was raised or not.\n",
        "\n",
        "Key Points:\n",
        "\n",
        "Always runs, whether an exception occurs or not.\n",
        "\n",
        "Commonly used for:\n",
        "\n",
        "Closing files\n",
        "\n",
        "Releasing resources (e.g., database connections)\n",
        "\n",
        "Resetting variables or states\n",
        " Example:\n",
        "\n",
        "try:\n",
        "\n",
        "    file = open(\"data.txt\", \"r\")\n",
        "    content = file.read()\n",
        "    print(content)\n",
        "except FileNotFoundError:\n",
        "\n",
        "    print(\"File not found.\")\n",
        "finally:\n",
        "\n",
        "    file.close()  # This runs no matter what\n",
        "    print(\"File is closed.\")\n",
        "Even if an error occurs while reading the file, the finally block will still close the file — which prevents resource leaks.\n",
        "\n",
        "Why it matters:\n",
        "Without finally, you'd risk leaving things open or in a bad state if an error happens. It's your guaranteed cleanup zone."
      ],
      "metadata": {
        "id": "TehRCNk0BbWb"
      }
    },
    {
      "cell_type": "markdown",
      "source": [
        "4. What is logging in Python?"
      ],
      "metadata": {
        "id": "IQHmwTL9BbsD"
      }
    },
    {
      "cell_type": "markdown",
      "source": [
        "\n",
        "\n",
        "Logging in Python is the process of recording messages (like errors, warnings, or informational messages) during the execution of a program. It's a powerful tool for debugging, monitoring, and auditing applications — especially in production.\n",
        "\n",
        "\n",
        " Why Use Logging Instead of print()?\n",
        "\n",
        "print() is for simple output.\n",
        "\n",
        "logging is for tracking events, errors, and runtime behavior in a structured way.\n",
        "\n",
        "You can control:\n",
        "\n",
        "What gets logged (info, warning, error, etc.)\n",
        "\n",
        "Where it goes (console, file, remote server)\n",
        "\n",
        "How it's formatted\n",
        " Basic Example\n",
        "\n",
        "\n",
        "import logging\n",
        "\n",
        "\n",
        "logging.basicConfig(level=logging.INFO)\n",
        "\n",
        "logging.debug(\"This is a debug message\")\n",
        "\n",
        "logging.info(\"This is an info message\")\n",
        "\n",
        "logging.warning(\"This is a warning\")\n",
        "\n",
        "logging.error(\"This is an error\")\n",
        "\n",
        "logging.critical(\"This is critical\")\n",
        "\n",
        "Log Levels (from lowest to highest):\n",
        "\n",
        "Level\tPurpose\n",
        "\n",
        "DEBUG\n",
        "\n",
        "\tDetailed info (for debugging)\n",
        "INFO\n",
        "\n",
        "\tGeneral information about program flow\n",
        "\n",
        "ERROR\n",
        "\n",
        "\tA serious problem — the program might still run\n",
        "CRITICAL\n",
        "\n",
        "\tA very serious error — might crash the program\n",
        "Logging to a File\n",
        "\n",
        "logging.basicConfig(filename='app.log', level=logging.WARNING)\n",
        "\n",
        "This saves log messages (at WARNING level or higher) into a file named app.log.\n",
        "\n",
        " Summary\n",
        "\n",
        "Logging is essential for maintaining, debugging, and auditing your applications.\n",
        "\n",
        "More flexible and powerful than print().\n",
        "\n",
        "Helps developers and system admins monitor and troubleshoot effectively."
      ],
      "metadata": {
        "id": "6GSvOuHCDUkj"
      }
    },
    {
      "cell_type": "markdown",
      "source": [
        "5. What is the significance of the __del__ method in Python?\n",
        "\n",
        "The __del__ method is a special method in Python known as a destructor. It's called automatically when an object is about to be destroyed, i.e., when it is garbage collected.\n",
        "\n",
        " Syntax:\n",
        "\n",
        "class MyClass:\n",
        "\n",
        "    def __del__(self):\n",
        "\n",
        "        print(\"Object is being destroyed\")\n",
        "\n",
        " Purpose:\n",
        "To perform cleanup tasks when an object is no longer needed.\n",
        "\n",
        "Examples:\n",
        "\n",
        "Closing open files or network connections\n",
        "\n",
        "Releasing resources (e.g., memory, database locks)\n",
        "\n",
        "Example:\n",
        "\n",
        "class FileHandler:\n",
        "\n",
        "    def __init__(self, filename):\n",
        "        self.file = open(filename, 'r')\n",
        "        print(\"File opened.\")\n",
        "\n",
        "    def __del__(self):\n",
        "        self.file.close()\n",
        "        print(\"File closed.\")\n",
        "\n",
        " When `handler` is deleted or goes out of scope, __del__ is called\n",
        "Important Notes:\n",
        "\n",
        "Don’t rely too heavily on __del__:\n",
        "\n",
        "Python's garbage collector doesn't guarantee exactly when __del__ will be called.\n",
        "\n",
        "If there are circular references, __del__ may not be called at all.\n",
        "\n",
        "For more predictable cleanup, prefer using context managers (with statement)\n"
      ],
      "metadata": {
        "id": "JAVOkruQEZrQ"
      }
    },
    {
      "cell_type": "markdown",
      "source": [
        "6. What is the difference between import and from ... import in Python?"
      ],
      "metadata": {
        "id": "W4pXJ2HiF3MM"
      }
    },
    {
      "cell_type": "markdown",
      "source": [
        "Both import and from ... import are used to include external modules or specific parts of modules in your Python program — but they differ in what and how they import.\n",
        "\n",
        "1️. import module\n",
        "Imports the entire module\n",
        "\n",
        "Access everything using the module name as a prefix\n",
        "\n",
        "\n",
        "import math\n",
        "\n",
        "print(math.sqrt(16))  # Must use 'math.' prefix\n",
        "\n",
        " Pros:\n",
        "\n",
        "Makes it clear where functions come from\n",
        "\n",
        "Avoids name conflicts\n",
        "\n",
        "2️. from module import item\n",
        "\n",
        "Imports only specific function(s), class(es), or variable(s) from a module\n",
        "\n",
        "You can use them directly without prefix\n",
        "\n",
        "\n",
        "from math import sqrt\n",
        "\n",
        "print(sqrt(16))  # No need for 'math.'\n",
        "\n",
        " Pros:\n",
        "\n",
        "Cleaner, shorter code if you're using only a few items\n",
        "\n",
        " Cons:\n",
        "\n",
        "Can cause name conflicts\n",
        "\n",
        "Less clear where the function comes from\n",
        "\n",
        "3. from module import * (Not recommended)\n",
        "\n",
        "Imports everything from the module\n",
        "\n",
        "Avoids prefixing but pollutes your namespaxe\n",
        "\n",
        "\n",
        "from math import *\n",
        "\n",
        "print(sqrt(16))"
      ],
      "metadata": {
        "id": "BggpDfLaGD1k"
      }
    },
    {
      "cell_type": "markdown",
      "source": [
        "7.How can you handle multiple exceptions in Python?\n",
        "\n",
        "Purpose of the with Statement When Handling Files in Python\n",
        "The with statement is used in Python to manage file resources safely and cleanly. It ensures that a file is automatically closed after you're done working with it — even if an error occurs during processing.\n",
        "\n",
        " Why Use with?\n",
        "\n",
        "Automatically opens and closes the file\n",
        "\n",
        "Prevents issues like:\n",
        "\n",
        "File remaining open accidentally\n",
        "\n",
        "Memory/resource leaks\n",
        "\n",
        "Makes code cleaner and more readable\n",
        "\n",
        " Example:\n",
        "\n",
        "with open(\"example.txt\", \"r\") as file:\n",
        "\n",
        "    content = file.read()\n",
        "    print(content)\n",
        "\n",
        "\n",
        " No need to call file.close() :\n",
        "\n",
        " it's done automatically\n",
        "\n",
        " What Happens Behind the Scenes:\n",
        "\n",
        "open(\"example.txt\", \"r\") creates a file object.\n",
        "\n",
        "with enters the file's context manager (via __enter__()).\n",
        "\n",
        "After the block finishes (or if an error occurs), __exit__() is called to close the file.\n",
        "\n",
        " Without with (manual handling):\n",
        "\n",
        "\n",
        "file = open(\"example.txt\", \"r\")\n",
        "\n",
        "try:\n",
        "\n",
        "    content = file.read()\n",
        "\n",
        "finally:\n",
        "\n",
        "    file.close()  # You must remember this!"
      ],
      "metadata": {
        "id": "zB2HxpcgGEAV"
      }
    },
    {
      "cell_type": "markdown",
      "source": [
        "8.What is the purpose of the with statement when handling files in Python?\n"
      ],
      "metadata": {
        "id": "tj6v2pZ9GGe1"
      }
    },
    {
      "cell_type": "markdown",
      "source": [
        "\n",
        "\n",
        "The with statement in Python is used to simplify file handling by automatically managing resources, like opening and closing files — even if an error occurs.\n",
        "\n",
        "Why Use with for Files?\n",
        "\n",
        "Automatically closes the file when the block is exited.\n",
        "\n",
        "Helps prevent:\n",
        "\n",
        "Memory leaks\n",
        "\n",
        "Locked files\n",
        "\n",
        "Forgotten file.close() calls\n",
        "\n",
        "Cleaner and more readable code\n",
        "\n",
        "with open(\"data.txt\", \"r\") as file:\n",
        "    content = file.read()\n",
        "\n",
        " File is automatically closed here, even if an error occurs::\n",
        "\n",
        " Summary:\n",
        "\n",
        "Feature\tBenefit\n",
        "\n",
        "Automatic cleanup\n",
        "\n",
        "\tNo need to call file.close() manually\n",
        "Error-safe\n",
        "\n",
        "\tCloses file even if exceptions occur\n",
        "Cleaner syntax\n",
        "\n",
        "\tMore readable and concise\n",
        "\n",
        "Using with is part of Python’s context management system — perfect for managing files, databases, network connections, and more.\n",
        "\n",
        "\n",
        "\n",
        "\n",
        "\n"
      ],
      "metadata": {
        "id": "-ySsIpOxGKv4"
      }
    },
    {
      "cell_type": "markdown",
      "source": [
        "9. What is the difference between multithreading and multiprocessing?"
      ],
      "metadata": {
        "id": "AGslv7NHGQvs"
      }
    },
    {
      "cell_type": "markdown",
      "source": [
        "Difference Between Multithreading and Multiprocessing in Python\n",
        "\n",
        "Both multithreading and multiprocessing are techniques used to achieve concurrent execution in Python, but they differ in how they work and what kinds of problems they solve best.\n",
        "\n",
        " Multithreading\n",
        "\n",
        "Runs multiple threads within a single process.\n",
        "\n",
        "Threads share the same memory space.\n",
        "\n",
        "Good for I/O-bound tasks (like reading files, network operation\n",
        "\n",
        " Pros:\n",
        "\n",
        "Lightweight\n",
        "\n",
        "Shared memory = easier communication\n",
        "\n",
        " Cons:\n",
        "\n",
        "Affected by Python's GIL (Global Interpreter Lock), so not ideal for CPU-heavy tasks\n",
        "\n",
        "Multiprocessing\n",
        "\n",
        "Runs multiple processes, each with its own Python interpreter and memory space.\n",
        "\n",
        "Ideal for CPU-bound tasks (like data processing, math calculations).\n",
        "\n",
        "\n",
        "\n",
        " Pros:\n",
        "\n",
        "True parallelism (no GIL limitation)\n",
        "\n",
        "Better for performance with CPU-intensive work\n",
        "\n",
        " Cons:\n",
        "\n",
        "Heavier (more memory)\n",
        "\n",
        "More complex communication (use Queue, Pipe, etc.)"
      ],
      "metadata": {
        "id": "8vHCuhQwGTOF"
      }
    },
    {
      "cell_type": "markdown",
      "source": [
        "10. What are the advantages of using logging in a program?\n",
        "\n",
        "Advantages of Using Logging in a Python Program:\n",
        "\n",
        " Easier Debugging\n",
        "\n",
        "Helps track down issues by recording errors and events.\n",
        "\n",
        " Record of Program Activity\n",
        "\n",
        "Maintains a history of what the program did (especially useful in production).\n",
        "\n",
        " Better Than print()\n",
        "\n",
        "Offers levels (INFO, WARNING, ERROR, etc.) and structured messages.\n",
        "\n",
        "Output Flexibility\n",
        "\n",
        "Can log to files, consoles, or remote servers — not just the screen.\n",
        "\n",
        " Non-intrusive Debugging\n",
        "\n",
        "You can enable/disable logs without changing the core code logic.\n",
        "\n",
        " Helps in Auditing and Monitoring\n",
        "\n",
        "Useful for keeping track of critical operations (like user logins or system failures).\n",
        "\n",
        " Customizable Format\n",
        "\n",
        "Can include timestamps, function names, line numbers, etc., for better context.\n",
        "\n",
        " Log Levels Provide Control\n",
        "\n",
        "Filter logs by severity (e.g., only log errors in production).\n",
        "\n",
        " Modular and Scalable\n",
        "\n",
        "Works well across large applications and multiple modules.\n",
        "\n",
        " Helps in Security Analysis\n",
        "\n",
        "Logs can be reviewed to detect unusual or unauthorized activities.\n",
        "\n"
      ],
      "metadata": {
        "id": "939kUq3gGTwb"
      }
    },
    {
      "cell_type": "markdown",
      "source": [
        "11.What is memory management in Python?\n",
        "\n",
        "Memory management in Python refers to how Python handles the allocation and deallocation of memory to store data during program execution — automatically and efficiently.\n",
        "\n",
        " Key Components of Memory Management in Python:\n",
        "\n",
        "1. Automatic Memory Allocation\n",
        "\n",
        "Python automatically allocates memory when new variables, objects, or data structures are created.\n",
        "\n",
        "2. Garbage Collection\n",
        "\n",
        "Python has a built-in garbage collector that:\n",
        "\n",
        "Frees memory by deleting unused or unreachable objects.\n",
        "\n",
        "Uses reference counting and cyclic garbage collection.\n",
        "\n",
        "3. Reference Counting\n",
        "\n",
        "Every object keeps track of how many references point to it.\n",
        "\n",
        "\n",
        "4. Dynamic Typing and Memory Use\n",
        "\n",
        "Python variables are dynamically typed, and memory is allocated as needed, which adds flexibility.\n",
        "\n",
        "5. Private Heap\n",
        "\n",
        "All Python objects and data structures are stored in a private heap space managed by the Python interpreter.\n",
        "\n",
        "6. Memory Pools (via pymalloc)\n",
        "Python uses a system called pymalloc to optimize memory usage for small objects.\n",
        "\n",
        " Benefits of Python's Memory Management:\n",
        "No need for manual memory allocation (unlike C/C++).\n",
        "\n",
        "Helps prevent memory leaks and segmentation faults.\n",
        "\n",
        "Keeps programs simpler and safer.\n",
        "\n",
        " Summary:\n",
        "\n",
        "\n",
        "Automatic allocation:\n",
        "\n",
        "Memory is assigned when objects are created\n",
        "\n",
        "Garbage collection:\n",
        "\n",
        "Unused memory is cleaned up automatically\n",
        "Reference counting\n",
        "\n",
        "Tracks object:\n",
        "\n",
        " usage to know when to delete them\n",
        "Private heap\tStores all Python objects\n",
        "\n"
      ],
      "metadata": {
        "id": "AxlaUKJqOlkO"
      }
    },
    {
      "cell_type": "markdown",
      "source": [
        "12.What are the basic steps involved in exception handling in Python?"
      ],
      "metadata": {
        "id": "Cf2CTO7vPekV"
      }
    },
    {
      "cell_type": "markdown",
      "source": [
        "1. try Block\n",
        "\n",
        "Write the code that might raise an exception.\n",
        "\n",
        " 2. except Block\n",
        "\n",
        "Catches and handles specific exceptions if they occur.\n",
        "\n",
        "3. (Optional) else Block\n",
        "\n",
        "Runs only if no exception was raised in the try block.\n",
        "\n",
        "\n",
        " 4. (Optional) finally Block\n",
        "\n",
        "Runs no matter what — used for cleanup tasks like closing files or releasing resources.\n",
        "\n",
        "\n",
        "\n",
        "Summary of Steps:\n",
        "\n",
        "try\n",
        "\n",
        "Run risky code\n",
        "\n",
        "except\n",
        "\n",
        "Handle specific exceptions (e.g., ValueError)\n",
        "\n",
        "else\n",
        "\n",
        "Run if no exception occurs\n",
        "\n",
        "finally\n",
        "\n",
        "Run always (cleanup actions)"
      ],
      "metadata": {
        "id": "3N6Omcm_Pfos"
      }
    },
    {
      "cell_type": "code",
      "source": [
        "try:\n",
        "    x = int(input(\"Enter a number: \"))\n",
        "except ValueError:\n",
        "    print(\"Invalid number!\")\n",
        "else:\n",
        "    print(\"Square is:\", x * x)\n",
        "finally:\n",
        "    print(\"Program ended.\")"
      ],
      "metadata": {
        "id": "IjfVK_NXQBi1"
      },
      "execution_count": null,
      "outputs": []
    },
    {
      "cell_type": "markdown",
      "source": [
        "13. Why is memory management important in Python?\n",
        "\n",
        "1.Efficient Resource Utilization\n",
        "\n",
        "Python programs run on machines with limited memory. Effective memory management ensures that:\n",
        "\n",
        "Memory is allocated only when needed.\n",
        "\n",
        "Unused memory is released promptly.\n",
        "This leads to more efficient use of system resources and better performance.\n",
        "\n",
        "2.Prevention of Memory Leaks\n",
        "\n",
        "A memory leak occurs when a program keeps referencing memory that it no longer needs. Python’s memory management (especially garbage collection and reference counting) helps:\n",
        "\n",
        "Automatically clean up unused objects.\n",
        "\n",
        "Prevent the buildup of unused memory over time.\n",
        "\n",
        "3 .Improved Program Stability\n",
        "\n",
        "Improper memory use (like holding references too long or creating unnecessary data copies) can lead to:\n",
        "\n",
        "Slowdowns.\n",
        "\n",
        "Crashes or \"Out of Memory\" errors.\n",
        "Effective memory management reduces these risks.\n",
        "\n",
        "4. Automatic Garbage Collection\n",
        "\n",
        "Python uses a combination of:\n",
        "\n",
        "Reference Counting: Each object has a count of references. When it drops to zero, the memory is freed.\n",
        "\n",
        "Garbage Collector: Detects and cleans up cyclic references (objects that reference each other but are otherwise unreachable).\n",
        "\n",
        "Understanding how this works helps developers:\n",
        "\n",
        "Write more memory-efficient code.\n",
        "\n",
        "Avoid unintentional retention of objects.\n",
        "\n",
        "5. Scalability\n",
        "\n",
        "For applications that handle large datasets, images, or run for extended periods (e.g., web servers, data pipelines), poor memory management can drastically affect scalability and uptime.\n",
        "\n",
        "Summary:\n",
        "\n",
        "Memory management in Python is essential for:\n",
        "\n",
        "Performance.\n",
        "\n",
        "Preventing memory-related bugs.\n",
        "\n",
        "Writing scalable and robust applications.\n",
        "\n",
        "Even though Python abstracts much of the complexity, understanding and managing memory usage is still a critical skill for developers."
      ],
      "metadata": {
        "id": "yaPEh0gDPfrf"
      }
    },
    {
      "cell_type": "markdown",
      "source": [
        "14.What is the role of try and except in exception handling?\n",
        "\n",
        "The try and except blocks in Python are used for exception handling, which allows your program to respond gracefully to errors that occur during execution, instead of crashing."
      ],
      "metadata": {
        "id": "g8Dkefsrz_Zi"
      }
    },
    {
      "cell_type": "code",
      "source": [
        "try:\n",
        "    x = 10 / 0\n",
        "\n",
        "\n",
        "\n"
      ],
      "metadata": {
        "id": "Prg1XLi_0MNF"
      },
      "execution_count": null,
      "outputs": []
    },
    {
      "cell_type": "markdown",
      "source": [],
      "metadata": {
        "id": "UTyxXhLv0y_U"
      }
    },
    {
      "cell_type": "markdown",
      "source": [
        "Role of try Block\n",
        "The try block contains code that might raise an exception. Python will execute this code and monitor for errors"
      ],
      "metadata": {
        "id": "-XmpTahH0O-o"
      }
    },
    {
      "cell_type": "code",
      "source": [
        "try:\n",
        "    x = 10 / 0\n"
      ],
      "metadata": {
        "id": "KuKgPZLn0RRS"
      },
      "execution_count": null,
      "outputs": []
    },
    {
      "cell_type": "markdown",
      "source": [
        " Role of except Block\n",
        "The except block is executed only if an exception occurs in the try block. It defines how your program should respond to specific errors."
      ],
      "metadata": {
        "id": "7I1Va67T0tQH"
      }
    },
    {
      "cell_type": "code",
      "source": [
        "try:\n",
        "    x = 10 / 0\n",
        "except ZeroDivisionError:\n",
        "    print(\"You can't divide by zero!\")\n"
      ],
      "metadata": {
        "id": "eVQmhyaq0uwh"
      },
      "execution_count": null,
      "outputs": []
    },
    {
      "cell_type": "markdown",
      "source": [
        "Benefits of Using try and except\n",
        "\n",
        "Prevents crashes: Your program keeps running even if something goes wrong.\n",
        "\n",
        "Graceful error handling: You can show user-friendly error messages.\n",
        "\n",
        "Debugging and logging: You can log errors or take corrective actions.\n",
        "\n",
        "Selective handling: Catch specific types of exceptions (e.g., ValueError, FileNotFoundError).\n",
        "\n"
      ],
      "metadata": {
        "id": "kurCNYBn07KI"
      }
    },
    {
      "cell_type": "code",
      "source": [
        "try:\n",
        "    number = int(input(\"Enter a number: \"))\n",
        "except ValueError:\n",
        "    print(\"That's not a valid number.\")\n"
      ],
      "metadata": {
        "id": "ua_Jyr3V0-98"
      },
      "execution_count": null,
      "outputs": []
    },
    {
      "cell_type": "markdown",
      "source": [
        "15. How does Python's garbage collection system work?\n",
        "\n",
        "1.Reference Counting (Primary Mechanism)\n",
        "Every object in Python has an internal reference count (the number of variables or containers that refer to it).\n",
        "\n",
        "When an object’s reference count drops to zero, it means no part of the program is using it, so Python immediately deletes it to free memory.\n",
        "\n",
        "2. Garbage Collector for Cyclic References\n",
        "\n",
        "Reference counting can't handle circular references (e.g., two objects referencing each other). To solve this, Python includes a cyclic garbage collector.\n",
        "\n",
        " 3. Generational Garbage Collection\n",
        "\n",
        "Python categorizes objects into generations based on how long they’ve been alive:\n",
        "\n",
        "Generation 0: New objects.\n",
        "\n",
        "Generation 1 & 2: Older objects that survived previous collections.\n",
        "\n",
        "Assumption: Long-lived objects are less likely to become garbage.\n",
        "\n",
        "Garbage collection runs more frequently on younger generations to optimize performance.\n",
        "\n",
        " 3. Generational Garbage Collection\n",
        "\n",
        "Python categorizes objects into generations based on how long they’ve been alive:\n",
        "\n",
        "summaary..\n",
        "\n",
        "\n",
        "Generation 0: New objects.\n",
        "\n",
        "Generation 1 & 2: Older objects that survived previous collections.\n",
        "\n",
        "Assumption: Long-lived objects are less likely to become garbage.\n",
        "\n",
        "Garbage collection runs more frequently on younger generations to optimize performance."
      ],
      "metadata": {
        "id": "hP4GWtol1CjT"
      }
    },
    {
      "cell_type": "code",
      "source": [
        "a = [1, 2, 3]  # reference count is 1\n",
        "b = a          # reference count is 2\n",
        "del a          # reference count is 1\n",
        "del b          # reference count is 0 → object is deleted\n"
      ],
      "metadata": {
        "id": "orlxqwpE1neS"
      },
      "execution_count": null,
      "outputs": []
    },
    {
      "cell_type": "code",
      "source": [
        "class Node:\n",
        "    def __init__(self):\n",
        "        self.ref = self\n",
        "\n",
        "n = Node()  # `n` references itself → creates a cycle\n",
        "del n       # reference count may not drop to 0 due to the cycle\n"
      ],
      "metadata": {
        "id": "2HZ0oZNk1sDt"
      },
      "execution_count": null,
      "outputs": []
    },
    {
      "cell_type": "markdown",
      "source": [
        "16. What is the purpose of the else block in exception handling?\n",
        "\n",
        "The else block in Python’s exception handling is used to define code that should run only if no exceptions are raised in the try block.\n",
        "\n",
        " Purpose of the else Block\n",
        "It separates normal execution from error handling.\n",
        "\n",
        "The code inside else runs only if the try block completes without errors.\n",
        "\n",
        "Why Use else?\n",
        "\n",
        "Improves code readability by clearly separating error-handling from success-handling logic.\n",
        "\n",
        "Avoids putting code in the try block that doesn’t need to be tested for exceptions.\n",
        "\n",
        " Summary\n",
        "\n",
        "The else block in exception handling:\n",
        "\n",
        "Runs only if no exception occurs in the try block.\n",
        "\n",
        "Helps keep code cleaner and more organized.\n",
        "\n",
        "It's optional but useful for writing clear and structured error-handling logic."
      ],
      "metadata": {
        "id": "_afGCJqy2Gpt"
      }
    },
    {
      "cell_type": "code",
      "source": [
        "try:\n",
        "    num = int(input(\"Enter a number: \"))\n",
        "except ValueError:\n",
        "    print(\"Invalid input! Not a number.\")\n",
        "else:\n",
        "    print(f\"You entered {num}.\")\n"
      ],
      "metadata": {
        "id": "qcDCKccM2Z_h"
      },
      "execution_count": null,
      "outputs": []
    },
    {
      "cell_type": "markdown",
      "source": [
        "17.What are the common logging levels in Python?\n",
        "\n",
        " DEBUG\n",
        "\n",
        "Used for detailed diagnostic information.\n",
        "\n",
        "Helpful for developers when debugging the application.\n",
        "\n",
        "Example: Logging variable values, function calls.\n",
        "\n",
        " INFO\n",
        "\n",
        "Used to report normal operations or status updates.\n",
        "\n",
        "Indicates that things are working as expected.\n",
        "\n",
        "Example: \"User logged in\", \"File uploaded successfully\".\n",
        "\n",
        " WARNING\n",
        "\n",
        "Used when something unexpected happens or may cause problems later, but the program can continue.\n",
        "\n",
        "It’s a yellow flag.\n",
        "\n",
        "Example: \"Disk space running low\".\n",
        "\n",
        " ERROR\n",
        "\n",
        "Used when a serious problem occurs that prevents a function or operation from running correctly.\n",
        "\n",
        "The program may continue running, but a part of it has failed.\n",
        "\n",
        "Example: \"Failed to open database connection\".\n",
        "\n",
        " CRITICAL\n",
        "\n",
        "Used for very severe errors that may cause the program to stop running entirely.\n",
        "\n",
        "Indicates a critical failure.\n",
        "\n",
        "Example: \"System crash\", \"Security breach\".\n",
        "\n",
        "Each level helps categorize the importance of log messages, allowing developers or system admins to filter and act on them appropriately.\n",
        "\n",
        "\n",
        "\n",
        "\n",
        "\n",
        "\n",
        "\n",
        "\n"
      ],
      "metadata": {
        "id": "LUJsMNEH2e04"
      }
    },
    {
      "cell_type": "markdown",
      "source": [
        "18. What is the difference between os.fork() and multiprocessing in Python?\n",
        "\n",
        "The difference between os.fork() and the multiprocessing module in Python lies in abstraction level, portability, and ease of use.\n",
        "\n",
        " os.fork()\n",
        "\n",
        "What it is: A low-level system call that creates a child process by duplicating the current process.\n",
        "\n",
        "How it works: After fork(), two processes continue independently — the parent and the child.\n",
        "\n",
        "Returns:\n",
        "\n",
        "0 in the child process.\n",
        "\n",
        "Child PID (process ID) in the parent.\n",
        "\n",
        " Characteristics:\n",
        "\n",
        "Unix-only: Works on Unix/Linux/macOS, not available on Windows.\n",
        "\n",
        "No abstraction: You have to manually manage communication and process handling.\n",
        "\n",
        "Used for: Simple, performance-critical, or system-level parallelism.\n",
        "\n",
        "  multiprocessing Module\n",
        "\n",
        "What it is: A high-level module for creating and managing separate processes, part of the Python standard library.\n",
        "\n",
        "Cross-platform: Works on Windows, macOS, and Linux.\n",
        "\n",
        "Includes:\n",
        "\n",
        "Process creation\n",
        "\n",
        "Shared memory\n",
        "\n",
        "Communication tools (Queues, Pipes)\n",
        "\n",
        "Synchronization (Locks, Events)\n",
        "\n",
        " Characteristics:\n",
        "Higher abstraction: Easier to use and manage processes.\n",
        "\n",
        "Better for complex tasks: Offers tools for inter-process communication (IPC), process pools, etc.\n",
        "\n",
        "Safer and cleaner: Especially for beginners or when writing portable code.\n"
      ],
      "metadata": {
        "id": "0Rtb19nM3KO3"
      }
    },
    {
      "cell_type": "code",
      "source": [
        "from multiprocessing import Process\n",
        "\n",
        "def worker():\n",
        "    print(\"Child process\")\n",
        "\n",
        "p = Process(target=worker)\n",
        "p.start()\n",
        "p.join()\n",
        "print(\"Parent process\")\n"
      ],
      "metadata": {
        "id": "K6CEpEKJ3z42"
      },
      "execution_count": null,
      "outputs": []
    },
    {
      "cell_type": "markdown",
      "source": [
        "19. What is the importance of closing a file in Python?\n",
        "\n",
        "Closing a file in Python is important for several reasons related to resource management, data integrity, and system performance. Here's why:\n",
        "\n",
        " 1. Frees System Resources\n",
        "\n",
        "Every open file consumes system resources like file descriptors or memory.\n",
        "\n",
        "If too many files remain open, the program (or even the OS) may run into limits and crash or behave unpredictably.\n",
        "\n",
        " 2. Ensures Data is Written to Disk\n",
        "\n",
        "When writing to a file, Python often uses buffering, meaning data is temporarily held in memory before being written to disk.\n",
        "\n",
        "Closing the file flushes the buffer, ensuring all data is physically saved.\n",
        "\n",
        "3. Prevents File Corruption\n",
        "\n",
        "Especially with write or append operations, an unclosed file may become corrupted if the program crashes or is interrupted before the buffer is flushed.\n",
        "\n",
        " 4. Allows Other Programs to Access the File\n",
        "\n",
        "If a file remains open, other programs or parts of your code may be locked out from accessing or modifying it.\n",
        "\n",
        " 5. Good Practice and Clean Code\n",
        "\n",
        "Explicitly closing files shows intentional resource handling and avoids subtle bugs in larger programs.\n",
        "\n",
        "\n",
        " Summary.\n",
        "Closing a file:\n",
        "\n",
        "Releases resources\n",
        "\n",
        "Ensures data is saved\n",
        "\n",
        "Prevents file corruption\n",
        "\n",
        "Improves program reliability and cleanliness\n",
        "\n",
        "Always close files explicitly or use the with statement to do it automatically.\n"
      ],
      "metadata": {
        "id": "0z3Y9bzH3269"
      }
    },
    {
      "cell_type": "markdown",
      "source": [
        "19. What is the difference between file.read() and file.readline() in Python?\n",
        "\n",
        "In Python, both file.read() and file.readline() are used to read data from a file, but they work differently:\n",
        "\n",
        "file.read()\n",
        "\n",
        "Reads the entire file (or the specified number of characters) into a single string.\n",
        "\n",
        "You can optionally pass a number to read up to that many characters.\n",
        "\n",
        "Use case: When you want the whole content at once.\n",
        "\n",
        "file.readline()\n",
        "\n",
        "Reads only one line from the file at a time.\n",
        "\n",
        "Each call returns the next line (including the newline \\n character, unless it's the last line).\n",
        "\n",
        "Use case: When reading the file line by line (e.g. to process large files without loading the whole file into memory)."
      ],
      "metadata": {
        "id": "wrKHlqAJ5Q6d"
      }
    },
    {
      "cell_type": "code",
      "source": [
        "with open('example.txt', 'r') as file:\n",
        "    content = file.read()\n",
        "    print(content)\n"
      ],
      "metadata": {
        "id": "jxuaL3wajehD"
      },
      "execution_count": null,
      "outputs": []
    },
    {
      "cell_type": "code",
      "source": [
        "with open('example.txt', 'r') as file:\n",
        "    content = file.read()\n",
        "    print(content)\n"
      ],
      "metadata": {
        "id": "KVlJtScLjgy4"
      },
      "execution_count": null,
      "outputs": []
    },
    {
      "cell_type": "markdown",
      "source": [
        "20.What is the logging module in Python used for?\n",
        "\n",
        "The logging module in Python is used for tracking events that happen during a program's execution. It is a powerful and flexible way to record messages for debugging, monitoring, or audit purposes.\n",
        "\n",
        " Why Use logging Instead of print()?\n",
        "\n",
        "print() is for quick debugging.\n",
        "\n",
        "logging is for real-time diagnostics, persistent logs, and different severity levels.\n",
        "\n",
        "You can control:\n",
        "\n",
        "Message formatting\n",
        "\n",
        "Log levels\n",
        "\n",
        "Output location (console, files, etc.)\n",
        "\n",
        "Filters and handlers\n",
        "\n",
        "Summary:\n",
        "\n",
        "The logging module helps you:\n",
        "\n",
        "Track events during runtime\n",
        "\n",
        "Categorize logs by importance\n",
        "\n",
        "Write logs to files or external systems\n",
        "\n",
        "Keep logs manageable in large applications\n",
        "\n"
      ],
      "metadata": {
        "id": "WWm_iTuGjpIa"
      }
    },
    {
      "cell_type": "code",
      "source": [
        "import logging\n",
        "\n",
        "logging.basicConfig(level=logging.INFO)\n",
        "\n",
        "logging.debug(\"This is a debug message\")   # Will not show unless level is DEBUG\n",
        "logging.info(\"Starting the program\")       # Will show\n",
        "logging.warning(\"Low disk space\")          # Will show\n",
        "logging.error(\"File not found\")            # Will show\n",
        "logging.critical(\"System crash!\")          # Will show\n"
      ],
      "metadata": {
        "id": "ZnphcDrDkPhw"
      },
      "execution_count": null,
      "outputs": []
    },
    {
      "cell_type": "markdown",
      "source": [
        "22.What is the os module in Python used for in file handling?\n",
        "\n",
        "The os module in Python is used for interacting with the operating system, and it's especially useful in file handling tasks such as navigating directories, creating, deleting, or modifying files and folders.\n",
        "\n",
        "The os module in Python is used to interact with the operating system, especially for file and directory handling. It lets you perform tasks like creating folders, deleting files, renaming files, and navigating the file system.\n",
        "\n",
        "Here are some common things you can do with os in file handling:\n",
        "\n",
        "os.getcwd() returns the current working directory.\n",
        "\n",
        "os.chdir(path) changes the current directory to the one specified.\n",
        "\n",
        "os.listdir(path) lists all files and directories in a given path.\n",
        "\n",
        "os.mkdir(path) creates a new directory.\n",
        "\n",
        "os.makedirs(path) creates nested directories (multiple levels).\n",
        "\n",
        "os.remove(filename) deletes a file.\n",
        "\n",
        "os.rmdir(path) removes an empty directory.\n",
        "\n",
        "os.rename(src, dst) renames a file or directory.\n",
        "\n",
        "os.path.exists(path) checks whether a file or directory exists.\n",
        "\n",
        "os.path.isfile(path) checks if the path is a file.\n",
        "\n",
        "os.path.isdir(path) checks if the path is a directory.\n",
        "\n"
      ],
      "metadata": {
        "id": "FrrpLZ4ekiO1"
      }
    },
    {
      "cell_type": "code",
      "source": [
        "import os\n",
        "\n",
        "# Get current working directory\n",
        "print(os.getcwd())\n",
        "\n",
        "# Create a new directory\n",
        "os.mkdir(\"new_folder\")\n",
        "\n",
        "# Rename the directory\n",
        "os.rename(\"new_folder\", \"renamed_folder\")\n",
        "\n",
        "# Check if the folder exists\n",
        "if os.path.exists(\"renamed_folder\"):\n",
        "    print(\"The folder was created and renamed.\")\n",
        "\n",
        "# Remove the folder\n",
        "os.rmdir(\"renamed_folder\")\n"
      ],
      "metadata": {
        "id": "_epNLJX7mHRn"
      },
      "execution_count": null,
      "outputs": []
    },
    {
      "cell_type": "markdown",
      "source": [
        "23.What are the challenges associated with memory management in Python?\n",
        "\n",
        "Memory management in Python is mostly handled automatically by the interpreter, but there are still several challenges and limitations that developers need to be aware of. Here are some key challenges:\n",
        "\n",
        "1. Memory Leaks\n",
        "\n",
        "Python uses reference counting and a garbage collector, but circular references (objects referring to each other) can still lead to memory not being freed properly.\n",
        "\n",
        "Example: Two objects referencing each other but not used anywhere else may never get cleaned up.\n",
        "\n",
        "2. High Memory Usage\n",
        "\n",
        "Python objects are memory-intensive compared to low-level languages like C.\n",
        "\n",
        "Built-in types (like lists and dicts) are flexible but can consume more memory than necessary for large-scale data.\n",
        "\n",
        "3. Garbage Collection Overhead\n",
        "\n",
        "The garbage collector can introduce performance issues, especially when dealing with a large number of objects.\n",
        "\n",
        "Unpredictable pauses from garbage collection can affect time-sensitive applications.\n",
        "\n",
        "4. Circular References\n",
        "\n",
        "Python's garbage collector can handle circular references, but identifying and cleaning them takes extra resources.\n",
        "\n",
        "Improper management can result in objects persisting in memory longer than needed.\n",
        "\n",
        "5. Global Interpreter Lock (GIL)\n",
        "\n",
        "While not directly a memory issue, Python’s GIL can make multi-threaded memory management tricky, especially when dealing with shared resources.\n",
        "\n",
        "6. External Libraries\n",
        "\n",
        "Some C-based extensions or third-party libraries may manage memory manually and not follow Python's memory model, causing leaks or corruption if misused.\n",
        "\n",
        "7. Manual Resource Management\n",
        "\n",
        "Resources like file handles, network connections, or database cursors require manual cleanup, often using with statements or explicit .close() calls. Forgetting to release them can cause memory/resource leaks.\n",
        "\n",
        "Summary:\n",
        "\n",
        "While Python simplifies memory management with automatic garbage collection, developers still face challenges like:\n",
        "\n",
        "Leaks from circular references,\n",
        "\n",
        "High memory use in large applications,\n",
        "\n",
        "Unpredictable garbage collection,\n",
        "\n",
        "The need for careful resource handling.\n",
        "\n",
        "Being aware of these helps write more efficient and robust Python code.\n",
        "\n"
      ],
      "metadata": {
        "id": "B0UvCESNmQGf"
      }
    },
    {
      "cell_type": "markdown",
      "source": [
        " 24.How do you raise an exception manually in Python?"
      ],
      "metadata": {
        "id": "fISTJx1bn56T"
      }
    },
    {
      "cell_type": "code",
      "source": [
        "raise ExceptionType(\"Error message\")\n"
      ],
      "metadata": {
        "id": "C-tF8YsenOlm"
      },
      "execution_count": null,
      "outputs": []
    },
    {
      "cell_type": "code",
      "source": [
        "x = -5\n",
        "if x < 0:\n",
        "    raise ValueError(\"x cannot be negative\")\n"
      ],
      "metadata": {
        "id": "_UvDeMkonXYU"
      },
      "execution_count": null,
      "outputs": []
    },
    {
      "cell_type": "code",
      "source": [
        "class MyCustomError(Exception):\n",
        "    pass\n",
        "\n",
        "raise MyCustomError(\"Something custom went wrong\")\n"
      ],
      "metadata": {
        "id": "nz4Y3At4ndQT"
      },
      "execution_count": null,
      "outputs": []
    },
    {
      "cell_type": "markdown",
      "source": [
        "25.Why is it important to use multithreading in certain applications?\n",
        "\n",
        "Using multithreading is important in certain applications because it helps improve performance, responsiveness, and efficiency, especially when tasks can run concurrently.\n",
        "\n",
        "Here’s why multithreading can be important:\n",
        "\n",
        "1. Improved Responsiveness\n",
        "\n",
        "In user interfaces (like GUI apps), multithreading keeps the app responsive while doing background work (e.g., loading files, fetching data).\n",
        "\n",
        "Without threads, the app might freeze during long operations.\n",
        "\n",
        "2. Concurrent Execution\n",
        "\n",
        "Threads allow multiple parts of a program to run \"at the same time\" (especially on multi-core CPUs).\n",
        "\n",
        "Useful for tasks like downloading files, handling multiple users, or managing multiple sensors in real-time.\n",
        "\n",
        "3. Better Resource Utilization\n",
        "\n",
        "Threads can run while others wait (e.g., for network or disk I/O), making better use of system resources.\n",
        "\n",
        "4. Faster Execution for I/O-Bound Tasks\n",
        "\n",
        "In Python, due to the Global Interpreter Lock (GIL), multithreading isn’t ideal for CPU-bound tasks.\n",
        "\n",
        "But it works well for I/O-bound tasks like:\n",
        "\n",
        "Reading/writing files\n",
        "\n",
        "Making web requests\n",
        "\n",
        "Waiting for user input\n",
        "\n",
        "5. Real-Time Applications\n",
        "\n",
        "In real-time systems (like games or robotics), you may need to process input, update states, and render output at the same time.\n",
        "\n",
        "Example Use Cases:\n",
        "\n",
        "Web servers handling multiple client requests\n",
        "\n",
        "Chat applications receiving and sending messages simultaneously\n",
        "\n",
        "File downloaders fetching multiple files in parallel\n",
        "\n",
        "Summary:\n",
        "\n",
        "Multithreading is important when:\n",
        "\n",
        "You want better performance in I/O-bound tasks\n",
        "\n",
        "You need to keep applications responsive\n",
        "\n",
        "You’re handling multiple simultaneous operations\n",
        "\n",
        "It’s a powerful tool—but should be used carefully due to potential issues like race conditions and thread synchronization."
      ],
      "metadata": {
        "id": "ldi4bXnVoF50"
      }
    },
    {
      "cell_type": "markdown",
      "source": [
        "**PRACTICAL QUESTIONS:**"
      ],
      "metadata": {
        "id": "fO4zxAt28o0h"
      }
    },
    {
      "cell_type": "markdown",
      "source": [
        "1. How can you open a file for writing in Python and write a string to it?\n",
        "\n"
      ],
      "metadata": {
        "id": "UFZLES1sotHP"
      }
    },
    {
      "cell_type": "code",
      "source": [
        "# Open the file in write mode\n",
        "with open('example.txt', 'w') as file:\n",
        "    # Write a string to the file\n",
        "    file.write(\"Hello, this is a test.\")\n"
      ],
      "metadata": {
        "id": "rUnu1BFko4k0"
      },
      "execution_count": null,
      "outputs": []
    },
    {
      "cell_type": "markdown",
      "source": [
        "2. Write a Python program to read the contents of a file and print each line?"
      ],
      "metadata": {
        "id": "BCGq6GJio8AJ"
      }
    },
    {
      "cell_type": "code",
      "source": [
        "# Open the file in read mode\n",
        "with open('example.txt', 'r') as file:\n",
        "    # Loop through each line in the file\n",
        "    for line in file:\n",
        "        print(line, end='')  # end='' avoids adding extra newlines\n"
      ],
      "metadata": {
        "id": "aCTLPfHZpBB3"
      },
      "execution_count": null,
      "outputs": []
    },
    {
      "cell_type": "markdown",
      "source": [
        "3.How would you handle a case where the file doesn't exist while trying to open it for reading?"
      ],
      "metadata": {
        "id": "6VUyRpgDpLYM"
      }
    },
    {
      "cell_type": "code",
      "source": [
        "try:\n",
        "    with open('nonexistent_file.txt', 'r') as file:\n",
        "        for line in file:\n",
        "            print(line, end='')\n",
        "except FileNotFoundError:\n",
        "    print(\"The file does not exist.\")\n"
      ],
      "metadata": {
        "id": "GOeEOyMvpa-A"
      },
      "execution_count": null,
      "outputs": []
    },
    {
      "cell_type": "markdown",
      "source": [
        "4. Write a Python script that reads from one file and writes its content to another file?"
      ],
      "metadata": {
        "id": "ipjr5UblpgsG"
      }
    },
    {
      "cell_type": "code",
      "source": [
        "try:\n",
        "    with open('source.txt', 'r') as source_file:\n",
        "        content = source_file.read()  # Read entire content\n",
        "\n",
        "    with open('destination.txt', 'w') as dest_file:\n",
        "        dest_file.write(content)      # Write content to new file\n",
        "\n",
        "    print(\"File copied successfully.\")\n",
        "except FileNotFoundError:\n",
        "    print(\"Source file not found.\")\n",
        "except IOError as e:\n",
        "    print(f\"An I/O error occurred: {e}\")\n"
      ],
      "metadata": {
        "id": "AfzxFv-ApolU"
      },
      "execution_count": null,
      "outputs": []
    },
    {
      "cell_type": "markdown",
      "source": [
        "5. How would you catch and handle division by zero error in Python?"
      ],
      "metadata": {
        "id": "JRCXzoCFpsHw"
      }
    },
    {
      "cell_type": "code",
      "source": [
        "try:\n",
        "    with open('source.txt', 'r') as source_file:\n",
        "        content = source_file.read()  # Read entire content\n",
        "\n",
        "    with open('destination.txt', 'w') as dest_file:\n",
        "        dest_file.write(content)      # Write content to new file\n",
        "\n",
        "    print(\"File copied successfully.\")\n",
        "except FileNotFoundError:\n",
        "    print(\"Source file not found.\")\n",
        "except IOError as e:\n",
        "    print(f\"An I/O error occurred: {e}\")\n"
      ],
      "metadata": {
        "id": "fL_enY5KpzG3"
      },
      "execution_count": null,
      "outputs": []
    },
    {
      "cell_type": "markdown",
      "source": [
        "6.Write a Python program that logs an error message to a log file when a division by zero exception occurs?"
      ],
      "metadata": {
        "id": "pNbG9ljNqBaq"
      }
    },
    {
      "cell_type": "code",
      "source": [
        "import logging\n",
        "\n",
        "# Configure logging to write to a file with ERROR level\n",
        "logging.basicConfig(filename='error.log', level=logging.ERROR,\n",
        "                    format='%(asctime)s - %(levelname)s - %(message)s')\n",
        "\n",
        "try:\n",
        "    x = 10\n",
        "    y = 0\n",
        "    result = x / y\n",
        "except ZeroDivisionError as e:\n",
        "    logging.error(\"Division by zero error occurred: %s\", e)\n",
        "    print(\"An error occurred. Check the log file for details.\")\n"
      ],
      "metadata": {
        "id": "DJWRNqsVqJv0"
      },
      "execution_count": null,
      "outputs": []
    },
    {
      "cell_type": "markdown",
      "source": [
        "7.How do you log information at different levels (INFO, ERROR, WARNING) in Python using the logging module?"
      ],
      "metadata": {
        "id": "qixgMKEWqQ4h"
      }
    },
    {
      "cell_type": "code",
      "source": [
        "import logging\n",
        "\n",
        "# Set up basic configuration for logging\n",
        "logging.basicConfig(level=logging.DEBUG,  # Minimum level to capture\n",
        "                    format='%(levelname)s: %(message)s')\n",
        "\n",
        "logging.debug(\"This is a DEBUG message\")     # Detailed info, mostly for developers\n",
        "logging.info(\"This is an INFO message\")      # General information\n",
        "logging.warning(\"This is a WARNING message\") # Something unexpected but not fatal\n",
        "logging.error(\"This is an ERROR message\")    # An error occurred\n",
        "logging.critical(\"This is a CRITICAL message\") # Serious error, program might stop\n"
      ],
      "metadata": {
        "id": "vHrB--XFqtYM"
      },
      "execution_count": null,
      "outputs": []
    },
    {
      "cell_type": "markdown",
      "source": [
        "8. Write a program to handle a file opening error using exception handling?"
      ],
      "metadata": {
        "id": "7-IELg3aquyP"
      }
    },
    {
      "cell_type": "code",
      "source": [
        "\n",
        "try:\n",
        "    with open('myfile.txt', 'r') as file:\n",
        "        content = file.read()\n",
        "        print(content)\n",
        "except FileNotFoundError:\n",
        "    print(\"Error: The file does not exist.\")\n",
        "except IOError:\n",
        "    print(\"Error: An I/O error occurred while handling the file.\")\n"
      ],
      "metadata": {
        "id": "-aD-dl__q6AD"
      },
      "execution_count": null,
      "outputs": []
    },
    {
      "cell_type": "markdown",
      "source": [
        "9.How can you read a file line by line and store its content in a list in Python?"
      ],
      "metadata": {
        "id": "CCOuVsHgq_-n"
      }
    },
    {
      "cell_type": "code",
      "source": [
        "try:\n",
        "    with open('myfile.txt', 'r') as file:\n",
        "        content = file.read()\n",
        "        print(content)\n",
        "except FileNotFoundError:\n",
        "    print(\"Error: The file does not exist.\")\n",
        "except IOError:\n",
        "    print(\"Error: An I/O error occurred while handling the file.\")\n"
      ],
      "metadata": {
        "id": "mDx5UdVQrPof"
      },
      "execution_count": null,
      "outputs": []
    },
    {
      "cell_type": "markdown",
      "source": [
        "10. How can you append data to an existing file in Python?"
      ],
      "metadata": {
        "id": "VpFzniZJrSW3"
      }
    },
    {
      "cell_type": "code",
      "source": [
        "try:\n",
        "    with open('myfile.txt', 'r') as file:\n",
        "        content = file.read()\n",
        "        print(content)\n",
        "except FileNotFoundError:\n",
        "    print(\"Error: The file does not exist.\")\n",
        "except IOError:\n",
        "    print(\"Error: An I/O error occurred while handling the file.\")\n"
      ],
      "metadata": {
        "id": "VQVIN_7RrlMh"
      },
      "execution_count": null,
      "outputs": []
    },
    {
      "cell_type": "markdown",
      "source": [
        "11.Write a Python program that uses a try-except block to handle an error when attempting to access a\n",
        "dictionary key that doesn't exist?"
      ],
      "metadata": {
        "id": "1gMOqeOHrrsy"
      }
    },
    {
      "cell_type": "code",
      "source": [
        "my_dict = {'a': 1, 'b': 2, 'c': 3}\n",
        "\n",
        "try:\n",
        "    value = my_dict['d']  # Trying to access a non-existent key\n",
        "except KeyError:\n",
        "    print(\"Error: The key does not exist in the dictionary.\")\n",
        "else:\n",
        "    print(f\"The value is {value}\")\n"
      ],
      "metadata": {
        "id": "ZEocISjgsEux"
      },
      "execution_count": null,
      "outputs": []
    },
    {
      "cell_type": "markdown",
      "source": [
        "12. Write a program that demonstrates using multiple except blocks to handle different types of exceptions?\n"
      ],
      "metadata": {
        "id": "HljKQoL0sG0f"
      }
    },
    {
      "cell_type": "code",
      "source": [
        "try:\n",
        "    x = int(input(\"Enter a number: \"))\n",
        "    y = int(input(\"Enter another number: \"))\n",
        "    result = x / y\n",
        "    print(f\"Result: {result}\")\n",
        "except ValueError:\n",
        "    print(\"Error: Invalid input. Please enter a valid integer.\")\n",
        "except ZeroDivisionError:\n",
        "    print(\"Error: Cannot divide by zero.\")\n",
        "except Exception as e:\n",
        "    print(f\"An unexpected error occurred: {e}\")\n"
      ],
      "metadata": {
        "id": "X398vZ5esO52"
      },
      "execution_count": null,
      "outputs": []
    },
    {
      "cell_type": "markdown",
      "source": [
        "13. How would you check if a file exists before attempting to read it in Python?"
      ],
      "metadata": {
        "id": "iHvL0ZVjsSBG"
      }
    },
    {
      "cell_type": "code",
      "source": [
        "import os\n",
        "\n",
        "filename = 'example.txt'\n",
        "\n",
        "if os.path.exists(filename):\n",
        "    with open(filename, 'r') as file:\n",
        "        content = file.read()\n",
        "        print(content)\n",
        "else:\n",
        "    print(\"File does not exist.\")\n"
      ],
      "metadata": {
        "id": "voouqSytsr0n"
      },
      "execution_count": null,
      "outputs": []
    },
    {
      "cell_type": "markdown",
      "source": [
        "14.Write a program that uses the logging module to log both informational and error messages?"
      ],
      "metadata": {
        "id": "qcqoIBsMstnz"
      }
    },
    {
      "cell_type": "code",
      "source": [
        "import logging\n",
        "\n",
        "# Configure logging: output to console, include time and level\n",
        "logging.basicConfig(level=logging.DEBUG,\n",
        "                    format='%(asctime)s - %(levelname)s - %(message)s')\n",
        "\n",
        "logging.info(\"This is an informational message.\")\n",
        "\n",
        "try:\n",
        "    result = 10 / 0  # This will raise ZeroDivisionError\n",
        "except ZeroDivisionError as e:\n",
        "    logging.error(f\"An error occurred: {e}\")\n"
      ],
      "metadata": {
        "id": "AYQ-0uDks35N"
      },
      "execution_count": null,
      "outputs": []
    },
    {
      "cell_type": "markdown",
      "source": [
        "15.Write a Python program that prints the content of a file and handles the case when the file is empty?"
      ],
      "metadata": {
        "id": "FHtYQPbvtAq2"
      }
    },
    {
      "cell_type": "code",
      "source": [
        "filename = 'example.txt'\n",
        "\n",
        "try:\n",
        "    with open(filename, 'r') as file:\n",
        "        content = file.read()\n",
        "        if content:\n",
        "            print(content)\n",
        "        else:\n",
        "            print(\"The file is empty.\")\n",
        "except FileNotFoundError:\n",
        "    print(f\"Error: The file '{filename}' does not exist.\")\n",
        "except IOError:\n",
        "    print(f\"Error: Could not read the file '{filename}'.\")\n"
      ],
      "metadata": {
        "id": "JTOKW7OdtKR_"
      },
      "execution_count": null,
      "outputs": []
    },
    {
      "cell_type": "markdown",
      "source": [
        "16.Demonstrate how to use memory profiling to check the memory usage of a small program?"
      ],
      "metadata": {
        "id": "_y1tzA1t7KIE"
      }
    },
    {
      "cell_type": "code",
      "source": [
        "pip install memory_profiler\n"
      ],
      "metadata": {
        "id": "T-srLt767Q85"
      },
      "execution_count": null,
      "outputs": []
    },
    {
      "cell_type": "markdown",
      "source": [
        "17.Write a Python program to create and write a list of numbers to a file, one number per line?"
      ],
      "metadata": {
        "id": "wvsb6chD7TiJ"
      }
    },
    {
      "cell_type": "code",
      "source": [
        "# List of numbers to write\n",
        "numbers = [10, 20, 30, 40, 50]\n",
        "\n",
        "# Open the file in write mode\n",
        "with open('numbers.txt', 'w') as file:\n",
        "    for number in numbers:\n",
        "        file.write(f\"{number}\\n\")  # Write each number on a new line\n",
        "\n",
        "print(\"Numbers written to 'numbers.txt'.\")\n"
      ],
      "metadata": {
        "id": "5qfnJVGw7a2U"
      },
      "execution_count": null,
      "outputs": []
    },
    {
      "cell_type": "markdown",
      "source": [
        "18.How would you implement a basic logging setup that logs to a file with rotation after 1MB?"
      ],
      "metadata": {
        "id": "KtutdUxh7cqv"
      }
    },
    {
      "cell_type": "code",
      "source": [
        "import logging\n",
        "from logging.handlers import RotatingFileHandler\n",
        "\n",
        "# Set up rotating log handler\n",
        "handler = RotatingFileHandler('app.log', maxBytes=1_000_000, backupCount=3)\n",
        "logging.basicConfig(level=logging.INFO, handlers=[handler],\n",
        "                    format='%(asctime)s - %(levelname)s - %(message)s')\n",
        "\n",
        "logging.info(\"This is a test log message.\")\n"
      ],
      "metadata": {
        "id": "w4-7CNS_7rB4"
      },
      "execution_count": null,
      "outputs": []
    },
    {
      "cell_type": "markdown",
      "source": [
        "19. Write a program that handles both IndexError and KeyError using a try-except block?"
      ],
      "metadata": {
        "id": "srCGN7V37rPE"
      }
    },
    {
      "cell_type": "code",
      "source": [
        "data = {'a': 1, 'b': 2}\n",
        "my_list = [10, 20, 30]\n",
        "\n",
        "try:\n",
        "    print(data['x'])    # KeyError\n",
        "    print(my_list[5])   # IndexError\n",
        "except KeyError:\n",
        "    print(\"KeyError: That key does not exist in the dictionary.\")\n",
        "except IndexError:\n",
        "    print(\"IndexError: That index does not exist in the list.\")\n"
      ],
      "metadata": {
        "id": "QIOb-q317yYt"
      },
      "execution_count": null,
      "outputs": []
    },
    {
      "cell_type": "markdown",
      "source": [
        "20.How would you open a file and read its contents using a context manager in Python?"
      ],
      "metadata": {
        "id": "nOYcP8MC7ymN"
      }
    },
    {
      "cell_type": "code",
      "source": [
        "filename = 'example.txt'\n",
        "\n",
        "try:\n",
        "    with open(filename, 'r') as file:\n",
        "        content = file.read()\n",
        "        print(content)\n",
        "except FileNotFoundError:\n",
        "    print(\"File not found.\")\n"
      ],
      "metadata": {
        "id": "ePxkoEzv73I1"
      },
      "execution_count": null,
      "outputs": []
    },
    {
      "cell_type": "markdown",
      "source": [
        "21.Write a Python program that reads a file and prints the number of occurrences of a specific word?"
      ],
      "metadata": {
        "id": "Q-FYBcHr73W2"
      }
    },
    {
      "cell_type": "code",
      "source": [
        "filename = 'sample.txt'\n",
        "word_to_count = 'python'\n",
        "\n",
        "try:\n",
        "    with open(filename, 'r') as file:\n",
        "        content = file.read().lower()\n",
        "        count = content.count(word_to_count.lower())\n",
        "        print(f\"'{word_to_count}' occurs {count} times.\")\n",
        "except FileNotFoundError:\n",
        "    print(\"File not found.\")\n"
      ],
      "metadata": {
        "id": "FbXgMObK8Ti8"
      },
      "execution_count": null,
      "outputs": []
    },
    {
      "cell_type": "markdown",
      "source": [
        "22.How can you check if a file is empty before attempting to read its contents?"
      ],
      "metadata": {
        "id": "XmVed5qc77xP"
      }
    },
    {
      "cell_type": "code",
      "source": [
        "import os\n",
        "\n",
        "filename = 'checkfile.txt'\n",
        "\n",
        "if os.path.exists(filename) and os.path.getsize(filename) > 0:\n",
        "    with open(filename, 'r') as file:\n",
        "        print(file.read())\n",
        "else:\n",
        "    print(\"The file is either empty or does not exist.\")\n"
      ],
      "metadata": {
        "id": "23kQXS_q8igp"
      },
      "execution_count": null,
      "outputs": []
    },
    {
      "cell_type": "markdown",
      "source": [
        "23.Write a Python program that writes to a log file when an error occurs during file handling?"
      ],
      "metadata": {
        "id": "1-KZoWCj8Aak"
      }
    },
    {
      "cell_type": "code",
      "source": [
        "import logging\n",
        "\n",
        "logging.basicConfig(filename='file_errors.log', level=logging.ERROR,\n",
        "                    format='%(asctime)s - %(levelname)s - %(message)s')\n",
        "\n",
        "filename = 'missing.txt'\n",
        "\n",
        "try:\n",
        "    with open(filename, 'r') as file:\n",
        "        print(file.read())\n",
        "except FileNotFoundError as e:\n",
        "    logging.error(f\"Failed to open file: {e}\")\n",
        "    print(\"An error occurred. Check the log file.\")\n"
      ],
      "metadata": {
        "id": "I3YgSM-n8EUv"
      },
      "execution_count": null,
      "outputs": []
    }
  ]
}